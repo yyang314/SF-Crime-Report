{
 "cells": [
  {
   "cell_type": "code",
   "execution_count": 15,
   "id": "814d45fd",
   "metadata": {},
   "outputs": [],
   "source": [
    "import json"
   ]
  },
  {
   "cell_type": "code",
   "execution_count": 16,
   "id": "89f641e3",
   "metadata": {},
   "outputs": [
    {
     "name": "stdout",
     "output_type": "stream",
     "text": [
      "result: {'incident_datetime': '2018/01/04 03:33:00 PM', 'incident_date': '2018/01/04', 'incident_time': '15:33', 'incident_year': '2018', 'incident_day_of_week': 'Thursday', 'report_datetime': '2018/01/04 03:33:00 PM', 'row_id': '62015971012', 'incident_id': '620159', 'incident_number': '160686162', 'cad_number': '', 'report_type_code': 'VS', 'report_type_description': 'Vehicle Supplement', 'filed_online': '', 'incident_code': '71012', 'incident_category': 'Other Offenses', 'incident_subcategory': 'Other Offenses', 'incident_description': '\"License Plate; Recovered\"', 'resolution': 'Open or Active', 'intersection': '', 'cnn': '', 'police_district': 'Out of SF', 'analysis_neighborhood': '', 'supervisor_district': '', 'latitude': '', 'longitude': '', 'point': ''}\n"
     ]
    }
   ],
   "source": [
    "with open('C:\\code\\sf_crime_reports.jsonl', 'r') as json_file:\n",
    "    json_list = list(json_file)\n",
    "\n",
    "for json_str in json_list:\n",
    "    result = json.loads(json_str)\n",
    "#print last record as a check\n",
    "print(f\"result: {result}\")"
   ]
  },
  {
   "cell_type": "code",
   "execution_count": 17,
   "id": "b52ea58b",
   "metadata": {},
   "outputs": [
    {
     "name": "stdout",
     "output_type": "stream",
     "text": [
      "\n",
      "column names: ['incident_datetime', 'incident_date', 'incident_time', 'incident_year', 'incident_day_of_week', 'report_datetime', 'row_id', 'incident_id', 'incident_number', 'cad_number', 'report_type_code', 'report_type_description', 'filed_online', 'incident_code', 'incident_category', 'incident_subcategory', 'incident_description', 'resolution', 'intersection', 'cnn', 'police_district', 'analysis_neighborhood', 'supervisor_district', 'latitude', 'longitude', 'point']\n"
     ]
    }
   ],
   "source": [
    "if type(json_list) == list:\n",
    "    # get the column names from the last record\n",
    "    columns = list(result.keys())\n",
    "    print (\"\\ncolumn names:\", columns)"
   ]
  },
  {
   "cell_type": "code",
   "execution_count": 18,
   "id": "d285e439",
   "metadata": {},
   "outputs": [],
   "source": [
    "table_name = \"crimesTable\"\n",
    "sql_string = 'INSERT INTO {} '.format( table_name )\n",
    "sql_string += \"(\" + ', '.join(columns) + \")\\nVALUES \""
   ]
  },
  {
   "cell_type": "code",
   "execution_count": 19,
   "id": "745e5692",
   "metadata": {},
   "outputs": [
    {
     "data": {
      "text/plain": [
       "dict_values(['2018/01/04 03:33:00 PM', '2018/01/04', '15:33', '2018', 'Thursday', '2018/01/04 03:33:00 PM', '62015971012', '620159', '160686162', '', 'VS', 'Vehicle Supplement', '', '71012', 'Other Offenses', 'Other Offenses', '\"License Plate; Recovered\"', 'Open or Active', '', '', 'Out of SF', '', '', '', '', ''])"
      ]
     },
     "execution_count": 19,
     "metadata": {},
     "output_type": "execute_result"
    }
   ],
   "source": [
    "result.values()"
   ]
  },
  {
   "cell_type": "code",
   "execution_count": 20,
   "id": "4cf55ff1",
   "metadata": {},
   "outputs": [
    {
     "data": {
      "text/plain": [
       "'INSERT INTO crimesTable (incident_datetime, incident_date, incident_time, incident_year, incident_day_of_week, report_datetime, row_id, incident_id, incident_number, cad_number, report_type_code, report_type_description, filed_online, incident_code, incident_category, incident_subcategory, incident_description, resolution, intersection, cnn, police_district, analysis_neighborhood, supervisor_district, latitude, longitude, point)\\nVALUES '"
      ]
     },
     "execution_count": 20,
     "metadata": {},
     "output_type": "execute_result"
    }
   ],
   "source": [
    "sql_string"
   ]
  },
  {
   "cell_type": "code",
   "execution_count": 21,
   "id": "6466ba07",
   "metadata": {},
   "outputs": [],
   "source": [
    "#Read everything in as a String - Postgres will auto cast\n",
    "#Generate Insert Statements and save to a file\n",
    "insertString =''\n",
    "#f = open(r'C:\\code\\SQL Inserts.txt','x')\n",
    "f = open(r'C:\\code\\SQL Inserts.txt','w')\n",
    "\n",
    "for json_str in json_list:\n",
    "    result = json.loads(json_str)\n",
    "    \n",
    "    #remove problematic apostrophes within strings\n",
    "    for key, value in result.items():\n",
    "        result[key] = result[key].replace(\"'\",\"\")\n",
    "    \n",
    "    # value string for the SQL string\n",
    "    f.write((sql_string + ' (' + \"'\" + \"', '\".join(list(result.values())) + \"'\" + ');\\n'))"
   ]
  },
  {
   "cell_type": "code",
   "execution_count": null,
   "id": "7fa3e722",
   "metadata": {},
   "outputs": [],
   "source": []
  }
 ],
 "metadata": {
  "kernelspec": {
   "display_name": "Python 3",
   "language": "python",
   "name": "python3"
  },
  "language_info": {
   "codemirror_mode": {
    "name": "ipython",
    "version": 3
   },
   "file_extension": ".py",
   "mimetype": "text/x-python",
   "name": "python",
   "nbconvert_exporter": "python",
   "pygments_lexer": "ipython3",
   "version": "3.8.8"
  }
 },
 "nbformat": 4,
 "nbformat_minor": 5
}
